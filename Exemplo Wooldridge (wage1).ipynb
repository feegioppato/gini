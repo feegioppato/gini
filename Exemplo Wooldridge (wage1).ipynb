{
 "cells": [
  {
   "cell_type": "code",
   "execution_count": 2,
   "id": "a9d2f5ff",
   "metadata": {},
   "outputs": [],
   "source": [
    "import gini as g\n",
    "import wooldridge as wd\n",
    "import pandas as pd\n",
    "import numpy as np"
   ]
  },
  {
   "cell_type": "code",
   "execution_count": 3,
   "id": "0c4a0405",
   "metadata": {},
   "outputs": [],
   "source": [
    "df = wd.data('wage1')\n",
    "\n",
    "dt = df['wage']\n",
    "h = df[df['female'] == 0]['wage']\n",
    "m = df[df['female'] == 1]['wage']\n",
    "lst = [h,m]"
   ]
  },
  {
   "cell_type": "code",
   "execution_count": 4,
   "id": "d518f353",
   "metadata": {},
   "outputs": [],
   "source": [
    "gi = g.Gini()"
   ]
  },
  {
   "cell_type": "code",
   "execution_count": 5,
   "id": "b95a35f6",
   "metadata": {},
   "outputs": [
    {
     "data": {
      "text/plain": [
       "0.3079"
      ]
     },
     "execution_count": 5,
     "metadata": {},
     "output_type": "execute_result"
    }
   ],
   "source": [
    "# Gini da amostra \n",
    "gi.gini(dt)"
   ]
  },
  {
   "cell_type": "code",
   "execution_count": 6,
   "id": "232ee028",
   "metadata": {},
   "outputs": [
    {
     "data": {
      "text/plain": [
       "([0.2537, 0.30231], 0.10632, 0.14408, 0.0575)"
      ]
     },
     "execution_count": 6,
     "metadata": {},
     "output_type": "execute_result"
    }
   ],
   "source": [
    "# Decomposição\n",
    "gi.decomp(lst, dt)"
   ]
  },
  {
   "cell_type": "code",
   "execution_count": 13,
   "id": "674c1358",
   "metadata": {
    "scrolled": true
   },
   "outputs": [
    {
     "data": {
      "image/png": "[encoded data removed]",
      "text/plain": [
       "<Figure size 432x288 with 1 Axes>"
      ]
     },
     "metadata": {
      "needs_background": "light"
     },
     "output_type": "display_data"
    }
   ],
   "source": [
    "gi.lorenz(m)"
   ]
  },
  {
   "cell_type": "code",
   "execution_count": null,
   "id": "5611658e",
   "metadata": {},
   "outputs": [],
   "source": []
  },
  {
   "cell_type": "code",
   "execution_count": 8,
   "id": "70a6bf72",
   "metadata": {},
   "outputs": [],
   "source": [
    "eq = pd.Series(np.ones((1000)))"
   ]
  },
  {
   "cell_type": "code",
   "execution_count": 9,
   "id": "0a361769",
   "metadata": {
    "scrolled": true
   },
   "outputs": [
    {
     "data": {
      "text/plain": [
       "0.0"
      ]
     },
     "execution_count": 9,
     "metadata": {},
     "output_type": "execute_result"
    }
   ],
   "source": [
    "gi.gini(eq)"
   ]
  },
  {
   "cell_type": "code",
   "execution_count": 10,
   "id": "0f0eee02",
   "metadata": {},
   "outputs": [
    {
     "data": {
      "text/plain": [
       "0      1.0\n",
       "1      1.0\n",
       "2      1.0\n",
       "3      1.0\n",
       "4      1.0\n",
       "      ... \n",
       "995    1.0\n",
       "996    1.0\n",
       "997    1.0\n",
       "998    1.0\n",
       "999    1.0\n",
       "Length: 1000, dtype: float64"
      ]
     },
     "execution_count": 10,
     "metadata": {},
     "output_type": "execute_result"
    }
   ],
   "source": [
    "eq"
   ]
  },
  {
   "cell_type": "code",
   "execution_count": null,
   "id": "a958ffea",
   "metadata": {},
   "outputs": [],
   "source": []
  }
 ],
 "metadata": {
  "kernelspec": {
   "display_name": "Python 3 (ipykernel)",
   "language": "python",
   "name": "python3"
  },
  "language_info": {
   "codemirror_mode": {
    "name": "ipython",
    "version": 3
   },
   "file_extension": ".py",
   "mimetype": "text/x-python",
   "name": "python",
   "nbconvert_exporter": "python",
   "pygments_lexer": "ipython3",
   "version": "3.7.3"
  }
 },
 "nbformat": 4,
 "nbformat_minor": 5
}
