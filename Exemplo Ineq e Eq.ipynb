{
 "cells": [
  {
   "cell_type": "code",
   "execution_count": 1,
   "id": "8ea56e98",
   "metadata": {},
   "outputs": [],
   "source": [
    "import gini as g\n",
    "import pandas as pd\n",
    "import numpy as np"
   ]
  },
  {
   "cell_type": "code",
   "execution_count": 2,
   "id": "526002e5",
   "metadata": {},
   "outputs": [],
   "source": [
    "gi = g.Gini()"
   ]
  },
  {
   "cell_type": "code",
   "execution_count": 9,
   "id": "0a9a220b",
   "metadata": {},
   "outputs": [],
   "source": [
    "# Amostra Desigual\n",
    "ineq = pd.Series(np.zeros((1000)))\n",
    "ineq[999] = 1"
   ]
  },
  {
   "cell_type": "code",
   "execution_count": 10,
   "id": "2b37bdf7",
   "metadata": {},
   "outputs": [
    {
     "data": {
      "text/plain": [
       "0.999"
      ]
     },
     "execution_count": 10,
     "metadata": {},
     "output_type": "execute_result"
    }
   ],
   "source": [
    "gi.gini(ineq)"
   ]
  },
  {
   "cell_type": "code",
   "execution_count": 11,
   "id": "d266d521",
   "metadata": {},
   "outputs": [],
   "source": [
    "# Amostra com igualdade perfeita\n",
    "eq = pd.Series(np.ones((1000)))"
   ]
  },
  {
   "cell_type": "code",
   "execution_count": 12,
   "id": "2c2b8d06",
   "metadata": {},
   "outputs": [
    {
     "data": {
      "text/plain": [
       "0.0"
      ]
     },
     "execution_count": 12,
     "metadata": {},
     "output_type": "execute_result"
    }
   ],
   "source": [
    "\n",
    "gi.gini(eq)"
   ]
  },
  {
   "cell_type": "code",
   "execution_count": null,
   "id": "1db43ecc",
   "metadata": {},
   "outputs": [],
   "source": []
  }
 ],
 "metadata": {
  "kernelspec": {
   "display_name": "Python 3 (ipykernel)",
   "language": "python",
   "name": "python3"
  },
  "language_info": {
   "codemirror_mode": {
    "name": "ipython",
    "version": 3
   },
   "file_extension": ".py",
   "mimetype": "text/x-python",
   "name": "python",
   "nbconvert_exporter": "python",
   "pygments_lexer": "ipython3",
   "version": "3.7.3"
  }
 },
 "nbformat": 4,
 "nbformat_minor": 5
}
